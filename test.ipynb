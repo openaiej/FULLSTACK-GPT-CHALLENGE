{
 "cells": [
  {
   "cell_type": "code",
   "execution_count": null,
   "metadata": {},
   "outputs": [
    {
     "ename": "AttributeError",
     "evalue": "type object 'FewShotChatMessagePromptTemplate' has no attribute 'from_examples'",
     "output_type": "error",
     "traceback": [
      "\u001b[1;31m---------------------------------------------------------------------------\u001b[0m",
      "\u001b[1;31mAttributeError\u001b[0m                            Traceback (most recent call last)",
      "Cell \u001b[1;32mIn[2], line 24\u001b[0m\n\u001b[0;32m     16\u001b[0m \u001b[38;5;66;03m# ✅ 3️⃣ Few-Shot 예제 설정 (영화 이모티콘 변환 예제)\u001b[39;00m\n\u001b[0;32m     17\u001b[0m examples \u001b[38;5;241m=\u001b[39m [\n\u001b[0;32m     18\u001b[0m     {\u001b[38;5;124m\"\u001b[39m\u001b[38;5;124mtitle\u001b[39m\u001b[38;5;124m\"\u001b[39m: \u001b[38;5;124m\"\u001b[39m\u001b[38;5;124m탑건\u001b[39m\u001b[38;5;124m\"\u001b[39m, \u001b[38;5;124m\"\u001b[39m\u001b[38;5;124memoji\u001b[39m\u001b[38;5;124m\"\u001b[39m: \u001b[38;5;124m\"\u001b[39m\u001b[38;5;124m✈️🔥🎶\u001b[39m\u001b[38;5;124m\"\u001b[39m},\n\u001b[0;32m     19\u001b[0m     {\u001b[38;5;124m\"\u001b[39m\u001b[38;5;124mtitle\u001b[39m\u001b[38;5;124m\"\u001b[39m: \u001b[38;5;124m\"\u001b[39m\u001b[38;5;124m대부\u001b[39m\u001b[38;5;124m\"\u001b[39m, \u001b[38;5;124m\"\u001b[39m\u001b[38;5;124memoji\u001b[39m\u001b[38;5;124m\"\u001b[39m: \u001b[38;5;124m\"\u001b[39m\u001b[38;5;124m🎩🔫🍝\u001b[39m\u001b[38;5;124m\"\u001b[39m},\n\u001b[0;32m     20\u001b[0m     {\u001b[38;5;124m\"\u001b[39m\u001b[38;5;124mtitle\u001b[39m\u001b[38;5;124m\"\u001b[39m: \u001b[38;5;124m\"\u001b[39m\u001b[38;5;124m덤앤더머\u001b[39m\u001b[38;5;124m\"\u001b[39m, \u001b[38;5;124m\"\u001b[39m\u001b[38;5;124memoji\u001b[39m\u001b[38;5;124m\"\u001b[39m: \u001b[38;5;124m\"\u001b[39m\u001b[38;5;124m🤣🚙🧥\u001b[39m\u001b[38;5;124m\"\u001b[39m},\n\u001b[0;32m     21\u001b[0m     {\u001b[38;5;124m\"\u001b[39m\u001b[38;5;124mtitle\u001b[39m\u001b[38;5;124m\"\u001b[39m: \u001b[38;5;124m\"\u001b[39m\u001b[38;5;124m나홀로 집에\u001b[39m\u001b[38;5;124m\"\u001b[39m, \u001b[38;5;124m\"\u001b[39m\u001b[38;5;124memoji\u001b[39m\u001b[38;5;124m\"\u001b[39m: \u001b[38;5;124m\"\u001b[39m\u001b[38;5;124m🏠🎄😂\u001b[39m\u001b[38;5;124m\"\u001b[39m},\n\u001b[0;32m     22\u001b[0m ]\n\u001b[1;32m---> 24\u001b[0m few_shot_prompt \u001b[38;5;241m=\u001b[39m \u001b[43mFewShotChatMessagePromptTemplate\u001b[49m\u001b[38;5;241;43m.\u001b[39;49m\u001b[43mfrom_examples\u001b[49m(\n\u001b[0;32m     25\u001b[0m     examples,\n\u001b[0;32m     26\u001b[0m     ChatPromptTemplate\u001b[38;5;241m.\u001b[39mfrom_messages([\n\u001b[0;32m     27\u001b[0m         (\u001b[38;5;124m\"\u001b[39m\u001b[38;5;124msystem\u001b[39m\u001b[38;5;124m\"\u001b[39m, \u001b[38;5;124m\"\u001b[39m\u001b[38;5;124m당신은 영화 제목을 3개의 이모티콘으로 변환하는 AI입니다.\u001b[39m\u001b[38;5;124m\"\u001b[39m),\n\u001b[0;32m     28\u001b[0m         (\u001b[38;5;124m\"\u001b[39m\u001b[38;5;124mhuman\u001b[39m\u001b[38;5;124m\"\u001b[39m, \u001b[38;5;124m\"\u001b[39m\u001b[38;5;132;01m{title}\u001b[39;00m\u001b[38;5;124m\"\u001b[39m),\n\u001b[0;32m     29\u001b[0m     ]),\n\u001b[0;32m     30\u001b[0m     example_key\u001b[38;5;241m=\u001b[39m\u001b[38;5;124m\"\u001b[39m\u001b[38;5;124mtitle\u001b[39m\u001b[38;5;124m\"\u001b[39m,\n\u001b[0;32m     31\u001b[0m     output_key\u001b[38;5;241m=\u001b[39m\u001b[38;5;124m\"\u001b[39m\u001b[38;5;124memoji\u001b[39m\u001b[38;5;124m\"\u001b[39m\n\u001b[0;32m     32\u001b[0m )\n\u001b[0;32m     34\u001b[0m \u001b[38;5;66;03m# ✅ 4️⃣ 메모리를 불러오는 함수\u001b[39;00m\n\u001b[0;32m     35\u001b[0m \u001b[38;5;28;01mdef\u001b[39;00m \u001b[38;5;21mload_memory\u001b[39m(_):\n",
      "\u001b[1;31mAttributeError\u001b[0m: type object 'FewShotChatMessagePromptTemplate' has no attribute 'from_examples'"
     ]
    }
   ],
   "source": [
    "from langchain.memory import ConversationBufferMemory\n",
    "from langchain.chat_models import ChatOpenAI\n",
    "from langchain.prompts import FewShotChatMessagePromptTemplate, ChatPromptTemplate\n",
    "from langchain.schema import AIMessage, HumanMessage\n",
    "from langchain.schema.runnable import RunnablePassthrough\n",
    "\n",
    "# ✅ 1️⃣ LLM 모델 설정\n",
    "llm = ChatOpenAI(temperature=0.3)\n",
    "\n",
    "# ✅ 2️⃣ 메모리 설정 (대화 기록 저장)\n",
    "memory = ConversationBufferMemory(\n",
    "    return_messages=True,\n",
    "    memory_key=\"chat_history\"\n",
    ")\n",
    "\n",
    "# ✅ 3️⃣ Few-Shot 예제 설정 (영화 이모티콘 변환 예제)\n",
    "examples = [\n",
    "    {\"title\": \"탑건\", \"emoji\": \"✈️🔥🎶\"},\n",
    "    {\"title\": \"대부\", \"emoji\": \"🎩🔫🍝\"},\n",
    "    {\"title\": \"덤앤더머\", \"emoji\": \"🤣🚙🧥\"},\n",
    "    {\"title\": \"나홀로 집에\", \"emoji\": \"🏠🎄😂\"},\n",
    "]\n",
    "\n",
    "few_shot_prompt = FewShotChatMessagePromptTemplate.example_prompt(\n",
    "    examples,\n",
    "    ChatPromptTemplate.from_messages([\n",
    "        (\"system\", \"당신은 영화 제목을 3개의 이모티콘으로 변환하는 AI입니다.\"),\n",
    "        (\"human\", \"{title}\"),\n",
    "    ]),\n",
    "    example_key=\"title\",\n",
    "    output_key=\"emoji\"\n",
    ")\n",
    "\n",
    "# ✅ 4️⃣ 메모리를 불러오는 함수\n",
    "def load_memory(_):\n",
    "    return memory.load_memory_variables({})[\"chat_history\"]\n",
    "\n",
    "# ✅ 5️⃣ LCEL 체인 구성\n",
    "chain = RunnablePassthrough.assign(chat_history=load_memory) | few_shot_prompt | llm\n",
    "\n",
    "# ✅ 6️⃣ 체인 실행 함수\n",
    "def get_movie_emoji(title):\n",
    "    response = chain.invoke({\"title\": title})\n",
    "    memory.save_context({\"input\": title}, {\"output\": response.content})\n",
    "    print(f\"{title} -> {response.content}\")\n",
    "\n",
    "# ✅ 7️⃣ 실행 테스트 (두 개의 영화 질문 후, 이전 질문 확인)\n",
    "get_movie_emoji(\"인셉션\")\n",
    "get_movie_emoji(\"타이타닉\")\n",
    "\n",
    "# ✅ 8️⃣ 이전 질문한 영화가 무엇인지 묻기\n",
    "response = chain.invoke({\"title\": \"내가 이전에 질문한 영화 제목은?\"})\n",
    "print(response.content)"
   ]
  }
 ],
 "metadata": {
  "kernelspec": {
   "display_name": "env",
   "language": "python",
   "name": "python3"
  },
  "language_info": {
   "codemirror_mode": {
    "name": "ipython",
    "version": 3
   },
   "file_extension": ".py",
   "mimetype": "text/x-python",
   "name": "python",
   "nbconvert_exporter": "python",
   "pygments_lexer": "ipython3",
   "version": "3.11.0"
  }
 },
 "nbformat": 4,
 "nbformat_minor": 2
}
