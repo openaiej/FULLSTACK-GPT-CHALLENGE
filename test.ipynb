{
 "cells": [
  {
   "cell_type": "code",
   "execution_count": 1,
   "metadata": {},
   "outputs": [
    {
     "name": "stdout",
     "output_type": "stream",
     "text": [
      "--->Real-time Cloudflare stock price (NYSE: NET) plus other valuable data points like day range, year, stock analyst insights, related news and more. Cloudflare's relatively high valuation metrics reflect the company's strong growth prospects and competitive positioning. The company's price-to-earnings and price-to-book ratio are significantly higher than the industry average. Cloudflare's stock has recently been incredibly volatile, ranging between approximately $30 and $80. Get Cloudflare Inc (NET) real-time stock quotes, news, price and financial information from Reuters to inform your trading and investments What is Cloudflare's quote symbol? (NYSE: NET) Cloudflare trades on the NYSE under the ticker symbol NET. Cloudflare stock quotes can also be displayed as NYSE: ... the total value of Cloudflare stock (market capitalization) is $58.74B.Cloudflare. stock was originally listed at a price of $18.00 in Sep 13, 2019. Stock analysis for Cloudflare Inc (NET:New York) including stock price, stock chart, company news, key statistics, fundamentals and company profile.\n"
     ]
    }
   ],
   "source": [
    "from langchain.utilities import DuckDuckGoSearchAPIWrapper\n",
    "\n",
    "ddg = DuckDuckGoSearchAPIWrapper()\n",
    "result = ddg.run(\"Stock Market Symbol for Cloudflare\")\n",
    "print(\"--->\"+result)"
   ]
  }
 ],
 "metadata": {
  "kernelspec": {
   "display_name": "env",
   "language": "python",
   "name": "python3"
  },
  "language_info": {
   "codemirror_mode": {
    "name": "ipython",
    "version": 3
   },
   "file_extension": ".py",
   "mimetype": "text/x-python",
   "name": "python",
   "nbconvert_exporter": "python",
   "pygments_lexer": "ipython3",
   "version": "3.11.0"
  }
 },
 "nbformat": 4,
 "nbformat_minor": 2
}
