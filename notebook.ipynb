{
 "cells": [
  {
   "cell_type": "code",
   "execution_count": 6,
   "metadata": {},
   "outputs": [
    {
     "name": "stdout",
     "output_type": "stream",
     "text": [
      "📢 AI 응답: Victory Mansions is a dilapidated apartment building where Winston resides. The building is described as run-down and shabby, with a sense of neglect evident in its appearance. The living conditions are poor, reflecting the oppressive and austere environment of the society depicted in the novel. The residents, like Winston, live in a state of constant surveillance and fear under the watchful eye of Big Brother. The atmosphere is bleak and oppressive, mirroring the oppressive regime under which the characters live.\n"
     ]
    }
   ],
   "source": [
    "from langchain.chat_models import ChatOpenAI\n",
    "from langchain.document_loaders import UnstructuredFileLoader\n",
    "from langchain.text_splitter import CharacterTextSplitter\n",
    "from langchain.embeddings import OpenAIEmbeddings, CacheBackedEmbeddings\n",
    "from langchain.vectorstores import FAISS\n",
    "from langchain.storage import LocalFileStore\n",
    "from langchain.schema.runnable import RunnablePassthrough\n",
    "from langchain.text_splitter import RecursiveCharacterTextSplitter\n",
    "from langchain.prompts import ChatPromptTemplate, MessagesPlaceholder\n",
    "from langchain.memory import ConversationBufferMemory\n",
    "from langchain.chains import LLMChain\n",
    "\n",
    "llm = ChatOpenAI(\n",
    "    temperature=0.1,\n",
    ")\n",
    "# 캐시 저장소 설정\n",
    "cache_dir = LocalFileStore(\"./.cache/\")\n",
    "\n",
    "# 텍스트 분할기 설정\n",
    "#splitter = CharacterTextSplitter.from_tiktoken_encoder(\n",
    "#    separator=\"\\n\",\n",
    "#    chunk_size=600,\n",
    "#    chunk_overlap=100,\n",
    "#)\n",
    "splitter=RecursiveCharacterTextSplitter(\n",
    "    chunk_size=1000,  # 더 큰 문서 조각 사용\n",
    "    chunk_overlap=200,  # 더 많은 문맥 유지\n",
    ")\n",
    "# 문서 로드\n",
    "loader = UnstructuredFileLoader(\"./files/document.txt\")\n",
    "\n",
    "docs = loader.load_and_split(text_splitter=splitter)\n",
    "\n",
    "# 임베딩 설정\n",
    "embeddings = OpenAIEmbeddings()\n",
    "#cached_embeddings = CacheBackedEmbeddings.from_bytes_store(embeddings, cache_dir)\n",
    "\n",
    "# 벡터 저장소 생성\n",
    "#vectorstore = FAISS.from_documents(docs, cached_embeddings)\n",
    "vectorstore = FAISS.from_documents(docs, embeddings)\n",
    "# retriever 업데이트\n",
    "retriever  = vectorstore.as_retriever()\n",
    "\n",
    "prompt = ChatPromptTemplate.from_messages(\n",
    "    [\n",
    "        (\n",
    "            \"system\",\n",
    "            \"You are a helpful assistant. Answer questions using only the following context.\\n\"\n",
    "            \"You MUST summarize the relevant information and analyze it logically before answering.\\n\"\n",
    "            \"DO NOT copy the context verbatim.\\n\"\n",
    "            \"Instead, explain the key points from the context and provide a well-reasoned answer.\\n\"\n",
    "            \"If the context is unclear or contradictory, explain why and state possible interpretations.\\n\"\n",
    "            \"Your response should be thoughtful, critical, and structured in a clear and concise manner:\\n\\n{context}\"\n",
    "        ),\n",
    "        MessagesPlaceholder(variable_name=\"history\"),\n",
    "        (\"human\", \"{question}\"),\n",
    "    ]\n",
    ")\n",
    "\n",
    "# 대화 메모리 설정\n",
    "memory= ConversationBufferMemory(memory_key=\"history\",return_messages=True, input_key=\"question\")\n",
    "def load_memory(_):\n",
    "    x=memory.load_memory_variables({})\n",
    "    return {\"history\":x[\"history\"]}\n",
    "chain = LLMChain(\n",
    "    llm=llm,\n",
    "    prompt=prompt,\n",
    "    memory=memory  # ⬅️ memory를 직접 적용\n",
    ")\n",
    "# 🔹 문서 검색 후 context 변환 함수\n",
    "def get_context(query):\n",
    "    retrieved_docs = retriever.invoke(query)  # 🔍 문서 검색\n",
    "    if not retrieved_docs:\n",
    "        print(\"⚠️ 검색된 문서가 없습니다.\")\n",
    "        return \"I don't know.\"\n",
    "    \n",
    "    context_text = \"\\n\\n\".join([doc.page_content for doc in retrieved_docs])  # 📄 문서를 문자열로 변환\n",
    "    #print(f\"🔍 검색된 문서 내용:\\n{context_text[:500]}...\")  # 500자까지만 미리보기\n",
    "    return context_text\n",
    "# 🔹 `chain.invoke()` 실행 시 memory 포함\n",
    "def ask_question(question):\n",
    "    context = get_context(question)\n",
    "    #history = memory.load_memory_variables({})[\"history\"]  # ⬅️ 수동으로 이전 대화 불러오기\n",
    "\n",
    "    response = chain.invoke({\n",
    "        \"context\": context,\n",
    "    #    \"history\": history,  # 🔥 대화 내역 추가\n",
    "        \"question\": question\n",
    "    })\n",
    "    #memory.save_context({\"question\": question}, {\"response\": response})  # 🔥 수동 저장\n",
    "    \n",
    "    return response\n",
    "response1 = ask_question(\"Describe Victory Mansions\")\n",
    "print(\"📢 AI 응답:\", response1[\"text\"])"
   ]
  },
  {
   "cell_type": "code",
   "execution_count": 7,
   "metadata": {},
   "outputs": [
    {
     "name": "stdout",
     "output_type": "stream",
     "text": [
      "📢 AI 응답: Aaronson, along with Jones and Rutherford, were declared guilty of the crimes they were charged with. However, the protagonist, Winston, later questions the validity of this information, suggesting that the photograph disproving their guilt may have been fabricated by the authorities. This ambiguity raises doubts about the true guilt or innocence of Aaronson and the others.\n"
     ]
    }
   ],
   "source": [
    "response1 = ask_question(\"Aaronson 은 유죄인가요?\")\n",
    "print(\"📢 AI 응답:\", response1[\"text\"])"
   ]
  },
  {
   "cell_type": "code",
   "execution_count": 8,
   "metadata": {},
   "outputs": [
    {
     "name": "stdout",
     "output_type": "stream",
     "text": [
      "📢 AI 응답: The text does not provide a definitive answer regarding whether Aaronson and his associates were actually guilty of the crimes they were accused of. The protagonist, Winston, questions the authenticity of the evidence against them, suggesting that it may have been manipulated by the authorities. This ambiguity leaves their true guilt or innocence open to interpretation, as the narrative does not conclusively confirm their actual culpability.\n"
     ]
    }
   ],
   "source": [
    "response1 = ask_question(\"그런데 실제로 유죄인가요?\")\n",
    "print(\"📢 AI 응답:\", response1[\"text\"])"
   ]
  },
  {
   "cell_type": "code",
   "execution_count": 9,
   "metadata": {},
   "outputs": [
    {
     "name": "stdout",
     "output_type": "stream",
     "text": [
      "📢 AI 응답: Winston initially believed in the guilt of Aaronson and his associates based on the evidence presented by the Party. However, he later begins to question the authenticity of this evidence, suspecting that it may have been fabricated by the authorities. This shift in Winston's perspective indicates his growing skepticism towards the Party's version of events and raises doubts about the true guilt or innocence of Aaronson and the others.\n"
     ]
    }
   ],
   "source": [
    "response1=ask_question(\"Winston 은 Aaronson의 유죄를 어떻게 생각했나요?\"  )\n",
    "print(\"📢 AI 응답:\", response1[\"text\"])"
   ]
  },
  {
   "cell_type": "code",
   "execution_count": 10,
   "metadata": {},
   "outputs": [
    {
     "name": "stdout",
     "output_type": "stream",
     "text": [
      "📢 AI 응답: Initially, Winston did not doubt the guilt of Aaronson and his associates. He believed in the evidence presented by the Party and accepted their guilt without question. It was only later that Winston began to question the authenticity of the evidence and consider the possibility that it may have been manipulated by the authorities. This indicates a shift in Winston's perspective over time, from unquestioning acceptance to growing skepticism towards the Party's narrative.\n"
     ]
    }
   ],
   "source": [
    "response1=ask_question(\"Winston은 처음 부터 그들의 유죄를 의심했나요?\")\n",
    "print(\"📢 AI 응답:\", response1[\"text\"])"
   ]
  },
  {
   "cell_type": "code",
   "execution_count": 11,
   "metadata": {},
   "outputs": [
    {
     "name": "stderr",
     "output_type": "stream",
     "text": [
      "첫 번째 줄\n",
      "두 번째 줄\n",
      "세 번째 줄\n"
     ]
    }
   ],
   "source": [
    "import logging\n",
    "\n",
    "# 로깅 설정\n",
    "logging.basicConfig(level=logging.INFO, format=\"%(message)s\")\n",
    "\n",
    "def log_message(text):\n",
    "    logging.info(text)  # 개행 포함된 문자열 출력\n",
    "log_message(\"첫 번째 줄\\n두 번째 줄\\n세 번째 줄\")"
   ]
  }
 ],
 "metadata": {
  "kernelspec": {
   "display_name": "env",
   "language": "python",
   "name": "python3"
  },
  "language_info": {
   "codemirror_mode": {
    "name": "ipython",
    "version": 3
   },
   "file_extension": ".py",
   "mimetype": "text/x-python",
   "name": "python",
   "nbconvert_exporter": "python",
   "pygments_lexer": "ipython3",
   "version": "3.11.0"
  }
 },
 "nbformat": 4,
 "nbformat_minor": 2
}
