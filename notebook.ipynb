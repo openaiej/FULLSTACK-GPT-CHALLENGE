{
 "cells": [
  {
   "cell_type": "code",
   "execution_count": 37,
   "metadata": {},
   "outputs": [
    {
     "name": "stdout",
     "output_type": "stream",
     "text": [
      "\n",
      "        상세정보:\n",
      "        감독: 크리스 벅, 제니퍼 리\n",
      "        각본: 크리스 벅, 제니퍼 리, 셰인드라 블레이크\n",
      "        출연: 크리스틴 벨, 이디나 멘젤, 조시 게드, 조나단 그로프\n",
      "        장르: 애니메이션, 뮤지컬, 모험\n",
      "        영화 특징: 따뜻한, 감동적인, 음악적\n",
      "        상영시간: 1시간 42분\n",
      "        "
     ]
    },
    {
     "data": {
      "text/plain": [
       "AIMessageChunk(content='\\n        상세정보:\\n        감독: 크리스 벅, 제니퍼 리\\n        각본: 크리스 벅, 제니퍼 리, 셰인드라 블레이크\\n        출연: 크리스틴 벨, 이디나 멘젤, 조시 게드, 조나단 그로프\\n        장르: 애니메이션, 뮤지컬, 모험\\n        영화 특징: 따뜻한, 감동적인, 음악적\\n        상영시간: 1시간 42분\\n        ')"
      ]
     },
     "execution_count": 37,
     "metadata": {},
     "output_type": "execute_result"
    }
   ],
   "source": [
    "from langchain.chat_models import ChatOpenAI\n",
    "from langchain.prompts.few_shot import FewShotChatMessagePromptTemplate\n",
    "from langchain.callbacks import StreamingStdOutCallbackHandler\n",
    "from langchain.prompts import ChatMessagePromptTemplate, ChatPromptTemplate\n",
    "\n",
    "chat = ChatOpenAI(\n",
    "    temperature=0.1,\n",
    "    streaming=True,\n",
    "    callbacks=[\n",
    "        StreamingStdOutCallbackHandler(),\n",
    "    ]\n",
    ")\n",
    "\n",
    "examples=[\n",
    "    {\n",
    "        \"영화\":\"파묘\",\n",
    "        \"answer\":\"\"\"\n",
    "        상세정보:\n",
    "        감독:장재현\n",
    "        각본:장재현\n",
    "        출연 : 최민식,김고은,유해진\n",
    "        장르: 호러 영화,스릴러 영화,미스터리\n",
    "        영화 특징: 으스스한, 불길한, 어두운\n",
    "        상영시간:02시간 14분\n",
    "        \"\"\",\n",
    "    },{\n",
    "        \"영화\": \"브로큰\",\n",
    "        \"answer\": \"\"\"\n",
    "        상세정보:\n",
    "        감독: 김진황\n",
    "        각본: 김진황\n",
    "        출연: 하정우, 김남길, 유다인, 정만식\n",
    "        장르: 스릴러, 드라마\n",
    "        영화 특징: 긴장감 넘치는, 감정적인, 어두운\n",
    "        상영시간: 2시간 5분\n",
    "        \"\"\"\n",
    "    },{\n",
    "        \"영화\": \"히트맨 2\",\n",
    "        \"answer\": \"\"\"\n",
    "        상세정보:\n",
    "        감독: 최원섭\n",
    "        각본: 최원섭, 신중렬\n",
    "        출연: 권상우, 정준호, 이이경, 황우슬혜, 김성오\n",
    "        장르: 액션, 코미디\n",
    "        영화 특징: 유머러스한, 빠른 전개, 경쾌한\n",
    "        상영시간: 1시간 58분\n",
    "        \"\"\"\n",
    "    },\n",
    "]\n",
    "\n",
    "example_prompt=ChatPromptTemplate.from_messages(\n",
    "    [\n",
    "        (\"human\",\"{영화}에 대해 알고있는 것은?\"),\n",
    "        (\"ai\",\"{answer}\")\n",
    "    ]\n",
    ")\n",
    "\n",
    "example_prompt=FewShotChatMessagePromptTemplate(\n",
    "    example_prompt=example_prompt,\n",
    "    examples=examples\n",
    ")\n",
    "\n",
    "final_prompt=ChatPromptTemplate.from_messages(\n",
    "    [\n",
    "        (\"system\",\"넌 영화 전문가야, 한국말로 예제 처럼 대답해줘\"),\n",
    "        example_prompt,\n",
    "        (\"human\",\"{영화}에 대해 알고있는 것은?\"),\n",
    "    ]\n",
    ")\n",
    "\n",
    "chain=final_prompt|chat\n",
    "chain.invoke({\"영화\":\"겨울왕국\"})"
   ]
  }
 ],
 "metadata": {
  "kernelspec": {
   "display_name": "env",
   "language": "python",
   "name": "python3"
  },
  "language_info": {
   "codemirror_mode": {
    "name": "ipython",
    "version": 3
   },
   "file_extension": ".py",
   "mimetype": "text/x-python",
   "name": "python",
   "nbconvert_exporter": "python",
   "pygments_lexer": "ipython3",
   "version": "3.11.0"
  }
 },
 "nbformat": 4,
 "nbformat_minor": 2
}
