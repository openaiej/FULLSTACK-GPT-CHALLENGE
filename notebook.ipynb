{
 "cells": [
  {
   "cell_type": "code",
   "execution_count": 4,
   "metadata": {},
   "outputs": [
    {
     "name": "stdout",
     "output_type": "stream",
     "text": [
      "\n",
      "\n",
      "\u001b[1m> Entering new AgentExecutor chain...\u001b[0m\n",
      "\u001b[32;1m\u001b[1;3m\n",
      "Invoking: `StockMarketSymbolSearchTool` with `{'query': 'Stock Market Symbol for 삼성전자'}`\n",
      "\n",
      "\n",
      "\u001b[0m\u001b[36;1m\u001b[1;3mSee the latest Samsung Electronics Co Ltd stock price (005930:XKRX), related news, valuation, dividends and more to help you make your investing decisions. Real-time stock price information. Investor Relations ; Stock Information; Stock Chart; open close About Us. Leadership & Mission - Our mission & Values - Business Principles - Our CEO - History; IR General Information; open close Financial Information & Disclosures. Financial Highlights; Get the latest Samsung Electronics Co., Ltd. (KRX:005930) stock price quote with financials, statistics, dividends, charts and more. Get undefined (005930.KS) real-time stock quotes, news, price and financial information from Reuters to inform your trading and investments SAMSUNG ELECTRONICS CO LTD (ATT) SMSN Company page - Search stock, chart, recent trades, company information, trading information, company news, fundamentals Discover Start your journey here\u001b[0m\u001b[32;1m\u001b[1;3mThe stock market symbol for 삼성전자 (Samsung Electronics) is 005930:XKRX. \n",
      "\n",
      "Samsung Electronics Co Ltd is a well-known company in the technology sector. To analyze if it's a potential good investment, we can consider the following factors:\n",
      "1. **Financial Performance**: Look at the company's revenue growth, profitability, and cash flow.\n",
      "2. **Market Position**: Evaluate Samsung's competitive position in the industry and its market share.\n",
      "3. **Industry Trends**: Consider the trends in the technology sector and how Samsung is positioned to benefit from them.\n",
      "4. **Future Growth Potential**: Assess Samsung's potential for future growth through new products, innovations, and market expansion.\n",
      "5. **Risks**: Identify any risks that could impact Samsung's stock performance, such as competition, regulatory changes, or economic conditions.\n",
      "\n",
      "It's important to conduct thorough research and consider your investment goals and risk tolerance before making any investment decisions.\u001b[0m\n",
      "\n",
      "\u001b[1m> Finished chain.\u001b[0m\n",
      "{'input': \"Give me information on 삼성전자's stock and help me analyze if it's a potential good investment. Also tell me what symbol does the stock have.\", 'output': \"The stock market symbol for 삼성전자 (Samsung Electronics) is 005930:XKRX. \\n\\nSamsung Electronics Co Ltd is a well-known company in the technology sector. To analyze if it's a potential good investment, we can consider the following factors:\\n1. **Financial Performance**: Look at the company's revenue growth, profitability, and cash flow.\\n2. **Market Position**: Evaluate Samsung's competitive position in the industry and its market share.\\n3. **Industry Trends**: Consider the trends in the technology sector and how Samsung is positioned to benefit from them.\\n4. **Future Growth Potential**: Assess Samsung's potential for future growth through new products, innovations, and market expansion.\\n5. **Risks**: Identify any risks that could impact Samsung's stock performance, such as competition, regulatory changes, or economic conditions.\\n\\nIt's important to conduct thorough research and consider your investment goals and risk tolerance before making any investment decisions.\"}\n"
     ]
    }
   ],
   "source": [
    "from typing import Any, Type\n",
    "from langchain.chat_models import ChatOpenAI\n",
    "from langchain.tools import BaseTool\n",
    "from pydantic import BaseModel, Field\n",
    "from langchain.agents import initialize_agent, AgentType\n",
    "from langchain.utilities import DuckDuckGoSearchAPIWrapper\n",
    "\n",
    "llm = ChatOpenAI(temperature=0.1)\n",
    "\n",
    "# DuckDuckGoSearchAPIWrapper 인스턴스를 한 번만 생성\n",
    "ddg = DuckDuckGoSearchAPIWrapper()\n",
    "\n",
    "class StockMarketSymbolSearchToolArgsSchema(BaseModel):\n",
    "    query: str = Field(\n",
    "        description=\"The query you will search for. Example query: Stock Market Symbol for Apple Company\"\n",
    "    )\n",
    "\n",
    "class StockMarketSymbolSearchTool(BaseTool):\n",
    "    name: str = \"StockMarketSymbolSearchTool\"  # 타입 명시\n",
    "    description: str = \"\"\"\n",
    "    Use this tool to find the stock market symbol for a company.\n",
    "    It takes a query as an argument.\n",
    "    \"\"\"\n",
    "    args_schema: Type[StockMarketSymbolSearchToolArgsSchema] = StockMarketSymbolSearchToolArgsSchema\n",
    "\n",
    "    def _run(self, query: str) -> str:\n",
    "        return ddg.run(query)  # DuckDuckGo API를 재사용\n",
    "\n",
    "# 에이전트 초기화\n",
    "agent = initialize_agent(\n",
    "    llm=llm,\n",
    "    verbose=True,\n",
    "    agent=AgentType.OPENAI_FUNCTIONS,\n",
    "    handle_parsing_errors=True,\n",
    "    tools=[StockMarketSymbolSearchTool()],\n",
    ")\n",
    "\n",
    "prompt = \"Give me information on 삼성전자's stock and help me analyze if it's a potential good investment. Also tell me what symbol does the stock have.\"\n",
    "\n",
    "response = agent.invoke(prompt)\n",
    "print(response)\n"
   ]
  }
 ],
 "metadata": {
  "kernelspec": {
   "display_name": "env",
   "language": "python",
   "name": "python3"
  },
  "language_info": {
   "codemirror_mode": {
    "name": "ipython",
    "version": 3
   },
   "file_extension": ".py",
   "mimetype": "text/x-python",
   "name": "python",
   "nbconvert_exporter": "python",
   "pygments_lexer": "ipython3",
   "version": "3.11.0"
  }
 },
 "nbformat": 4,
 "nbformat_minor": 2
}
