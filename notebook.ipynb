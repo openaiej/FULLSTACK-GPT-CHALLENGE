{
 "cells": [
  {
   "cell_type": "code",
   "execution_count": 14,
   "metadata": {},
   "outputs": [
    {
     "name": "stdout",
     "output_type": "stream",
     "text": [
      "💭🌌🔑"
     ]
    },
    {
     "name": "stderr",
     "output_type": "stream",
     "text": [
      "INFO:root:인셉션 -> 💭🌌🔑\n",
      "\n"
     ]
    },
    {
     "name": "stdout",
     "output_type": "stream",
     "text": [
      "🚢💔🌊"
     ]
    },
    {
     "name": "stderr",
     "output_type": "stream",
     "text": [
      "INFO:root:타이타닉 -> 🚢💔🌊\n",
      "\n"
     ]
    }
   ],
   "source": [
    "from langchain.memory import ConversationSummaryBufferMemory\n",
    "from langchain.chat_models import ChatOpenAI\n",
    "#from langchain.chains import LLMChain\n",
    "from langchain.schema.runnable import RunnablePassthrough\n",
    "from langchain.prompts import MessagesPlaceholder,ChatPromptTemplate\n",
    "from langchain.callbacks import StreamingStdOutCallbackHandler\n",
    "from langchain.prompts.few_shot import FewShotChatMessagePromptTemplate\n",
    "import logging\n",
    "llm=ChatOpenAI(\n",
    "    temperature=0.1,\n",
    "    streaming=True,\n",
    "    callbacks=[StreamingStdOutCallbackHandler()]\n",
    "               )\n",
    "memory=ConversationSummaryBufferMemory(\n",
    "    llm=llm,\n",
    "    max_token_limit=500,\n",
    "    memory_key=\"history\",\n",
    "    return_messages=True,\n",
    ")\n",
    "examples=[\n",
    "    {\n",
    "        \"영화\":\"파묘\",\n",
    "        \"answer\":\"⚰️👻🔦\",\n",
    "    },{\n",
    "        \"영화\": \"나홀로집에\",\n",
    "        \"answer\": \"🏠🎄😂\"\n",
    "    },{\n",
    "        \"영화\": \"덤앤더머\",\n",
    "        \"answer\": \"🤣🚙🧥\"\n",
    "    },\n",
    "]\n",
    "\n",
    "example_prompt=ChatPromptTemplate.from_messages(\n",
    "    [\n",
    "        (\"human\",\"영화 {영화}에 대해 이미티콘 3개로 표현해줘\"),\n",
    "        (\"ai\",\"{answer}\")\n",
    "    ]\n",
    ")\n",
    "example_prompt=FewShotChatMessagePromptTemplate(\n",
    "    example_prompt=example_prompt,\n",
    "    examples=examples\n",
    ")\n",
    "\n",
    "\n",
    "prompt=ChatPromptTemplate.from_messages(\n",
    "    [\n",
    "        (\"system\",\"You are a helpful AI talking to a human\"),\n",
    "        MessagesPlaceholder(variable_name=\"history\"),\n",
    "        example_prompt,\n",
    "        (\"human\",\"{question}\")\n",
    "    ]\n",
    ")\n",
    "\n",
    "def load_memory(_):\n",
    "    return memory.load_memory_variables({})[\"history\"]\n",
    "\n",
    "chain=RunnablePassthrough.assign(history=load_memory) | prompt | llm\n",
    "\n",
    "logging.basicConfig(level=logging.INFO)\n",
    "def get_movie_emoji(question):\n",
    "    response = chain.invoke({\"question\": question})\n",
    "    memory.save_context({\"input\": question}, {\"output\": response.content})\n",
    "    logging.info(f\"{question} -> {response.content}\\n\")\n",
    "\n",
    "# ✅ 7️⃣ 실행 테스트 (두 개의 영화 질문 후, 이전 질문 확인)\n",
    "get_movie_emoji(\"인셉션\")\n",
    "get_movie_emoji(\"타이타닉\")\n"
   ]
  },
  {
   "cell_type": "code",
   "execution_count": 15,
   "metadata": {},
   "outputs": [
    {
     "name": "stdout",
     "output_type": "stream",
     "text": [
      "당신이 처음 물어본 영화는 '인셉션'이었습니다."
     ]
    },
    {
     "data": {
      "text/plain": [
       "AIMessageChunk(content=\"당신이 처음 물어본 영화는 '인셉션'이었습니다.\")"
      ]
     },
     "execution_count": 15,
     "metadata": {},
     "output_type": "execute_result"
    }
   ],
   "source": [
    "chain.invoke({\"question\":\"내가 제일 처음 물어본 영화는?\"})"
   ]
  },
  {
   "cell_type": "code",
   "execution_count": 16,
   "metadata": {},
   "outputs": [
    {
     "name": "stdout",
     "output_type": "stream",
     "text": [
      "마지막으로 물어보신 영화는 \"덤앤더머\"입니다."
     ]
    },
    {
     "data": {
      "text/plain": [
       "AIMessageChunk(content='마지막으로 물어보신 영화는 \"덤앤더머\"입니다.')"
      ]
     },
     "execution_count": 16,
     "metadata": {},
     "output_type": "execute_result"
    }
   ],
   "source": [
    "chain.invoke({\"question\":\"내가 마지막에 물어본 영화는?\"})"
   ]
  },
  {
   "cell_type": "code",
   "execution_count": 17,
   "metadata": {},
   "outputs": [
    {
     "name": "stdout",
     "output_type": "stream",
     "text": [
      "{'history': [HumanMessage(content='인셉션'), AIMessage(content='💭🌌🔑'), HumanMessage(content='타이타닉'), AIMessage(content='🚢💔🌊')]}\n"
     ]
    }
   ],
   "source": [
    "print(memory.load_memory_variables({}))"
   ]
  },
  {
   "cell_type": "code",
   "execution_count": null,
   "metadata": {},
   "outputs": [],
   "source": []
  }
 ],
 "metadata": {
  "kernelspec": {
   "display_name": "env",
   "language": "python",
   "name": "python3"
  },
  "language_info": {
   "codemirror_mode": {
    "name": "ipython",
    "version": 3
   },
   "file_extension": ".py",
   "mimetype": "text/x-python",
   "name": "python",
   "nbconvert_exporter": "python",
   "pygments_lexer": "ipython3",
   "version": "3.11.0"
  }
 },
 "nbformat": 4,
 "nbformat_minor": 2
}
