{
 "cells": [
  {
   "cell_type": "code",
   "execution_count": 4,
   "metadata": {},
   "outputs": [],
   "source": [
    "from langchain.chat_models import ChatOpenAI\n",
    "from langchain.prompts import ChatPromptTemplate\n",
    "from langchain.callbacks import StreamingStdOutCallbackHandler\n",
    "\n",
    "chat =ChatOpenAI(\n",
    "    temperature=0.1,\n",
    "    streaming=True,\n",
    "    callbacks=[\n",
    "        StreamingStdOutCallbackHandler(),\n",
    "    ],\n",
    ")\n",
    "\n",
    "chef_prompt=ChatPromptTemplate.from_messages(\n",
    "    [\n",
    "        (\n",
    "            \"system\",\n",
    "            \"You are a world-class international chef. You create easy to follow recipies for any type of cusione\"\n",
    "        ),\n",
    "        (\"human\",\"I want to cook {cuisine} food\")\n",
    "    ]\n",
    ")\n",
    "chef_chain = chef_prompt | chat"
   ]
  },
  {
   "cell_type": "code",
   "execution_count": 5,
   "metadata": {},
   "outputs": [
    {
     "name": "stdout",
     "output_type": "stream",
     "text": [
      "Great choice! Here is a simple recipe for Bibimbap, a popular Korean dish:\n",
      "\n",
      "Ingredients:\n",
      "- 2 cups cooked white rice\n",
      "- 1 carrot, julienned\n",
      "- 1 zucchini, julienned\n",
      "- 1 cup bean sprouts\n",
      "- 1 cup spinach\n",
      "- 4 shiitake mushrooms, sliced\n",
      "- 1/2 pound beef (such as ribeye or sirloin), thinly sliced\n",
      "- 4 eggs\n",
      "- 4 tablespoons gochujang (Korean red chili paste)\n",
      "- 2 tablespoons soy sauce\n",
      "- 2 tablespoons sesame oil\n",
      "- 2 cloves garlic, minced\n",
      "- Salt and pepper to taste\n",
      "- Sesame seeds for garnish\n",
      "- Vegetable oil for cooking\n",
      "\n",
      "Instructions:\n",
      "1. Marinate the beef: In a bowl, mix the beef with soy sauce, sesame oil, garlic, salt, and pepper. Let it marinate for at least 30 minutes.\n",
      "2. Prepare the vegetables: Blanch the bean sprouts and spinach in boiling water for 1-2 minutes, then rinse with cold water and squeeze out excess water. Sauté the carrots, zucchini, and mushrooms in a pan with a little vegetable oil until tender.\n",
      "3. Cook the beef: In the same pan, cook the marinated beef over high heat until browned and cooked through.\n",
      "4. Fry the eggs: In a separate pan, fry the eggs sunny-side up or over easy.\n",
      "5. Assemble the Bibimbap: Divide the cooked rice among four bowls. Arrange the cooked vegetables, beef, and fried eggs on top of the rice. Add a dollop of gochujang on the side.\n",
      "6. Serve: Sprinkle sesame seeds over the top and serve hot. Mix everything together before eating to enjoy all the flavors combined.\n",
      "\n",
      "Enjoy your homemade Bibimbap!To make this Bibimbap recipe vegetarian, you can replace the beef with tofu or tempeh. Here's how you can prepare the tofu or tempeh as a substitute:\n",
      "\n",
      "- Tofu: Use firm tofu and cut it into thin slices or cubes. To give it flavor similar to the marinated beef, you can marinate the tofu in a mixture of soy sauce, sesame oil, minced garlic, salt, and pepper for at least 30 minutes before cooking. Then, pan-fry or bake the tofu until it is browned and slightly crispy.\n",
      "\n",
      "- Tempeh: Cut the tempeh into thin slices or cubes. You can steam the tempeh for about 10 minutes to soften it before marinating it in a mixture of soy sauce, sesame oil, minced garlic, salt, and pepper. After marinating, pan-fry or bake the tempeh until it is golden brown and crispy on the outside.\n",
      "\n",
      "By using tofu or tempeh as a replacement for beef, you can still enjoy a flavorful and satisfying vegetarian Bibimbap."
     ]
    },
    {
     "data": {
      "text/plain": [
       "AIMessageChunk(content=\"To make this Bibimbap recipe vegetarian, you can replace the beef with tofu or tempeh. Here's how you can prepare the tofu or tempeh as a substitute:\\n\\n- Tofu: Use firm tofu and cut it into thin slices or cubes. To give it flavor similar to the marinated beef, you can marinate the tofu in a mixture of soy sauce, sesame oil, minced garlic, salt, and pepper for at least 30 minutes before cooking. Then, pan-fry or bake the tofu until it is browned and slightly crispy.\\n\\n- Tempeh: Cut the tempeh into thin slices or cubes. You can steam the tempeh for about 10 minutes to soften it before marinating it in a mixture of soy sauce, sesame oil, minced garlic, salt, and pepper. After marinating, pan-fry or bake the tempeh until it is golden brown and crispy on the outside.\\n\\nBy using tofu or tempeh as a replacement for beef, you can still enjoy a flavorful and satisfying vegetarian Bibimbap.\")"
      ]
     },
     "execution_count": 5,
     "metadata": {},
     "output_type": "execute_result"
    }
   ],
   "source": [
    "veg_chef_prompt=ChatPromptTemplate.from_messages(\n",
    "    [\n",
    "        (\n",
    "            \"system\",\n",
    "            \"You are a vegetarian chef specialized on making traditional recipies vegetorian.\\\n",
    "              You find alternative ingredients and explain their preparation.\\\n",
    "              You don't radically modify the recipe.\\\n",
    "              If there is no alternative for a food just say you don't know how to replace it.  \"\n",
    "        ),\n",
    "        (\"human\",\"{recipe}\")\n",
    "    ]\n",
    ")\n",
    "\n",
    "veg_chain=veg_chef_prompt|chat\n",
    "\n",
    "final_chain={\"recipe\":chef_chain}|veg_chain\n",
    "final_chain.invoke({\"cuisine\":\"korea\"})\n"
   ]
  }
 ],
 "metadata": {
  "kernelspec": {
   "display_name": "env",
   "language": "python",
   "name": "python3"
  },
  "language_info": {
   "codemirror_mode": {
    "name": "ipython",
    "version": 3
   },
   "file_extension": ".py",
   "mimetype": "text/x-python",
   "name": "python",
   "nbconvert_exporter": "python",
   "pygments_lexer": "ipython3",
   "version": "3.11.0"
  }
 },
 "nbformat": 4,
 "nbformat_minor": 2
}
